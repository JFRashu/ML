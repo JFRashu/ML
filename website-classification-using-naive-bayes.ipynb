{
 "cells": [
  {
   "cell_type": "markdown",
   "id": "726f4be0",
   "metadata": {
    "papermill": {
     "duration": 0.005602,
     "end_time": "2025-02-14T17:42:00.313265",
     "exception": false,
     "start_time": "2025-02-14T17:42:00.307663",
     "status": "completed"
    },
    "tags": []
   },
   "source": [
    "# Necessary Imports"
   ]
  },
  {
   "cell_type": "code",
   "execution_count": 1,
   "id": "9e81ee96",
   "metadata": {
    "execution": {
     "iopub.execute_input": "2025-02-14T17:42:00.323307Z",
     "iopub.status.busy": "2025-02-14T17:42:00.322963Z",
     "iopub.status.idle": "2025-02-14T17:42:07.891969Z",
     "shell.execute_reply": "2025-02-14T17:42:07.890186Z"
    },
    "papermill": {
     "duration": 7.576114,
     "end_time": "2025-02-14T17:42:07.894043",
     "exception": false,
     "start_time": "2025-02-14T17:42:00.317929",
     "status": "completed"
    },
    "tags": []
   },
   "outputs": [
    {
     "name": "stdout",
     "output_type": "stream",
     "text": [
      "Setup Complete\n"
     ]
    }
   ],
   "source": [
    "import pandas as pd\n",
    "import matplotlib.pyplot as plt\n",
    "import seaborn as sns\n",
    "from ydata_profiling import ProfileReport\n",
    "from IPython.display import HTML, IFrame, display, FileLink\n",
    "from sklearn.model_selection import train_test_split\n",
    "from sklearn.naive_bayes import MultinomialNB\n",
    "from sklearn.metrics import classification_report, confusion_matrix\n",
    "from sklearn.feature_extraction.text import CountVectorizer\n",
    "print(\"Setup Complete\")"
   ]
  },
  {
   "cell_type": "markdown",
   "id": "b4878fa3",
   "metadata": {
    "papermill": {
     "duration": 0.003592,
     "end_time": "2025-02-14T17:42:07.902326",
     "exception": false,
     "start_time": "2025-02-14T17:42:07.898734",
     "status": "completed"
    },
    "tags": []
   },
   "source": [
    "#  Connect Dataset"
   ]
  },
  {
   "cell_type": "code",
   "execution_count": 2,
   "id": "d71c2d82",
   "metadata": {
    "execution": {
     "iopub.execute_input": "2025-02-14T17:42:07.911887Z",
     "iopub.status.busy": "2025-02-14T17:42:07.911269Z",
     "iopub.status.idle": "2025-02-14T17:42:08.103630Z",
     "shell.execute_reply": "2025-02-14T17:42:08.102480Z"
    },
    "papermill": {
     "duration": 0.199091,
     "end_time": "2025-02-14T17:42:08.105335",
     "exception": false,
     "start_time": "2025-02-14T17:42:07.906244",
     "status": "completed"
    },
    "tags": []
   },
   "outputs": [],
   "source": [
    "dataset_path = '/kaggle/input/website-classification/website_classification.csv'\n",
    "dataset = pd.read_csv(dataset_path)"
   ]
  },
  {
   "cell_type": "code",
   "execution_count": 3,
   "id": "d5ec5f5a",
   "metadata": {
    "execution": {
     "iopub.execute_input": "2025-02-14T17:42:08.114504Z",
     "iopub.status.busy": "2025-02-14T17:42:08.114174Z",
     "iopub.status.idle": "2025-02-14T17:42:08.135878Z",
     "shell.execute_reply": "2025-02-14T17:42:08.134990Z"
    },
    "papermill": {
     "duration": 0.027888,
     "end_time": "2025-02-14T17:42:08.137522",
     "exception": false,
     "start_time": "2025-02-14T17:42:08.109634",
     "status": "completed"
    },
    "tags": []
   },
   "outputs": [
    {
     "data": {
      "text/html": [
       "<div>\n",
       "<style scoped>\n",
       "    .dataframe tbody tr th:only-of-type {\n",
       "        vertical-align: middle;\n",
       "    }\n",
       "\n",
       "    .dataframe tbody tr th {\n",
       "        vertical-align: top;\n",
       "    }\n",
       "\n",
       "    .dataframe thead th {\n",
       "        text-align: right;\n",
       "    }\n",
       "</style>\n",
       "<table border=\"1\" class=\"dataframe\">\n",
       "  <thead>\n",
       "    <tr style=\"text-align: right;\">\n",
       "      <th></th>\n",
       "      <th>Unnamed: 0</th>\n",
       "      <th>website_url</th>\n",
       "      <th>cleaned_website_text</th>\n",
       "      <th>Category</th>\n",
       "    </tr>\n",
       "  </thead>\n",
       "  <tbody>\n",
       "    <tr>\n",
       "      <th>0</th>\n",
       "      <td>0</td>\n",
       "      <td>https://www.booking.com/index.html?aid=1743217</td>\n",
       "      <td>official site good hotel accommodation big sav...</td>\n",
       "      <td>Travel</td>\n",
       "    </tr>\n",
       "    <tr>\n",
       "      <th>1</th>\n",
       "      <td>1</td>\n",
       "      <td>https://travelsites.com/expedia/</td>\n",
       "      <td>expedia hotel book sites like use vacation wor...</td>\n",
       "      <td>Travel</td>\n",
       "    </tr>\n",
       "    <tr>\n",
       "      <th>2</th>\n",
       "      <td>2</td>\n",
       "      <td>https://travelsites.com/tripadvisor/</td>\n",
       "      <td>tripadvisor hotel book sites like previously d...</td>\n",
       "      <td>Travel</td>\n",
       "    </tr>\n",
       "    <tr>\n",
       "      <th>3</th>\n",
       "      <td>3</td>\n",
       "      <td>https://www.momondo.in/?ispredir=true</td>\n",
       "      <td>cheap flights search compare flights momondo f...</td>\n",
       "      <td>Travel</td>\n",
       "    </tr>\n",
       "    <tr>\n",
       "      <th>4</th>\n",
       "      <td>4</td>\n",
       "      <td>https://www.ebookers.com/?AFFCID=EBOOKERS-UK.n...</td>\n",
       "      <td>bot create free account create free account si...</td>\n",
       "      <td>Travel</td>\n",
       "    </tr>\n",
       "  </tbody>\n",
       "</table>\n",
       "</div>"
      ],
      "text/plain": [
       "   Unnamed: 0                                        website_url  \\\n",
       "0           0     https://www.booking.com/index.html?aid=1743217   \n",
       "1           1                   https://travelsites.com/expedia/   \n",
       "2           2               https://travelsites.com/tripadvisor/   \n",
       "3           3              https://www.momondo.in/?ispredir=true   \n",
       "4           4  https://www.ebookers.com/?AFFCID=EBOOKERS-UK.n...   \n",
       "\n",
       "                                cleaned_website_text Category  \n",
       "0  official site good hotel accommodation big sav...   Travel  \n",
       "1  expedia hotel book sites like use vacation wor...   Travel  \n",
       "2  tripadvisor hotel book sites like previously d...   Travel  \n",
       "3  cheap flights search compare flights momondo f...   Travel  \n",
       "4  bot create free account create free account si...   Travel  "
      ]
     },
     "execution_count": 3,
     "metadata": {},
     "output_type": "execute_result"
    }
   ],
   "source": [
    "dataset.head()\n"
   ]
  },
  {
   "cell_type": "code",
   "execution_count": 4,
   "id": "4626ce1e",
   "metadata": {
    "execution": {
     "iopub.execute_input": "2025-02-14T17:42:08.147650Z",
     "iopub.status.busy": "2025-02-14T17:42:08.147318Z",
     "iopub.status.idle": "2025-02-14T17:42:08.153871Z",
     "shell.execute_reply": "2025-02-14T17:42:08.152762Z"
    },
    "papermill": {
     "duration": 0.012995,
     "end_time": "2025-02-14T17:42:08.155354",
     "exception": false,
     "start_time": "2025-02-14T17:42:08.142359",
     "status": "completed"
    },
    "tags": []
   },
   "outputs": [
    {
     "data": {
      "text/plain": [
       "(1408, 4)"
      ]
     },
     "execution_count": 4,
     "metadata": {},
     "output_type": "execute_result"
    }
   ],
   "source": [
    "dataset.shape"
   ]
  },
  {
   "cell_type": "markdown",
   "id": "8c4d8eb9",
   "metadata": {
    "papermill": {
     "duration": 0.003903,
     "end_time": "2025-02-14T17:42:08.164414",
     "exception": false,
     "start_time": "2025-02-14T17:42:08.160511",
     "status": "completed"
    },
    "tags": []
   },
   "source": [
    "# Types of category in the dataset"
   ]
  },
  {
   "cell_type": "code",
   "execution_count": 5,
   "id": "cb8fb313",
   "metadata": {
    "execution": {
     "iopub.execute_input": "2025-02-14T17:42:08.173696Z",
     "iopub.status.busy": "2025-02-14T17:42:08.173316Z",
     "iopub.status.idle": "2025-02-14T17:42:08.188711Z",
     "shell.execute_reply": "2025-02-14T17:42:08.187387Z"
    },
    "papermill": {
     "duration": 0.0219,
     "end_time": "2025-02-14T17:42:08.190256",
     "exception": false,
     "start_time": "2025-02-14T17:42:08.168356",
     "status": "completed"
    },
    "tags": []
   },
   "outputs": [
    {
     "data": {
      "text/plain": [
       "Category\n",
       "Education                          114\n",
       "Business/Corporate                 109\n",
       "Travel                             107\n",
       "Streaming Services                 105\n",
       "Sports                             104\n",
       "E-Commerce                         102\n",
       "Games                               98\n",
       "News                                96\n",
       "Health and Fitness                  96\n",
       "Photography                         93\n",
       "Computers and Technology            93\n",
       "Food                                92\n",
       "Law and Government                  84\n",
       "Social Networking and Messaging     83\n",
       "Forums                              16\n",
       "Adult                               16\n",
       "Name: count, dtype: int64"
      ]
     },
     "execution_count": 5,
     "metadata": {},
     "output_type": "execute_result"
    }
   ],
   "source": [
    "dataset['Category'].value_counts()"
   ]
  },
  {
   "cell_type": "markdown",
   "id": "2013c948",
   "metadata": {
    "papermill": {
     "duration": 0.003956,
     "end_time": "2025-02-14T17:42:08.199246",
     "exception": false,
     "start_time": "2025-02-14T17:42:08.195290",
     "status": "completed"
    },
    "tags": []
   },
   "source": [
    "# Data Profiling"
   ]
  },
  {
   "cell_type": "code",
   "execution_count": 6,
   "id": "3467124b",
   "metadata": {
    "execution": {
     "iopub.execute_input": "2025-02-14T17:42:08.208835Z",
     "iopub.status.busy": "2025-02-14T17:42:08.208426Z",
     "iopub.status.idle": "2025-02-14T17:42:12.447404Z",
     "shell.execute_reply": "2025-02-14T17:42:12.446432Z"
    },
    "papermill": {
     "duration": 4.245357,
     "end_time": "2025-02-14T17:42:12.448767",
     "exception": false,
     "start_time": "2025-02-14T17:42:08.203410",
     "status": "completed"
    },
    "tags": []
   },
   "outputs": [
    {
     "data": {
      "application/vnd.jupyter.widget-view+json": {
       "model_id": "d798d089daee46079cc342c979be0a26",
       "version_major": 2,
       "version_minor": 0
      },
      "text/plain": [
       "Summarize dataset:   0%|          | 0/5 [00:00<?, ?it/s]"
      ]
     },
     "metadata": {},
     "output_type": "display_data"
    },
    {
     "data": {
      "application/vnd.jupyter.widget-view+json": {
       "model_id": "7a4490408501474f841a3932c4a2f535",
       "version_major": 2,
       "version_minor": 0
      },
      "text/plain": [
       "Generate report structure:   0%|          | 0/1 [00:00<?, ?it/s]"
      ]
     },
     "metadata": {},
     "output_type": "display_data"
    },
    {
     "data": {
      "application/vnd.jupyter.widget-view+json": {
       "model_id": "db6ca7d93a45493787a14a2bc00160df",
       "version_major": 2,
       "version_minor": 0
      },
      "text/plain": [
       "Render HTML:   0%|          | 0/1 [00:00<?, ?it/s]"
      ]
     },
     "metadata": {},
     "output_type": "display_data"
    },
    {
     "data": {
      "application/vnd.jupyter.widget-view+json": {
       "model_id": "acd37ff5575b40cd8a0cfee105ccaf23",
       "version_major": 2,
       "version_minor": 0
      },
      "text/plain": [
       "Export report to file:   0%|          | 0/1 [00:00<?, ?it/s]"
      ]
     },
     "metadata": {},
     "output_type": "display_data"
    },
    {
     "name": "stdout",
     "output_type": "stream",
     "text": [
      "Profile report generated successfully!\n"
     ]
    }
   ],
   "source": [
    "\n",
    "profile = ProfileReport(dataset,title=\"Panas Profiling Report\",explorative  =  True)\n",
    "profile.to_file(\"website_classification_profile.html\")\n",
    "\n",
    "print(\"Profile report generated successfully!\")\n"
   ]
  },
  {
   "cell_type": "markdown",
   "id": "1798c87a",
   "metadata": {
    "papermill": {
     "duration": 0.00388,
     "end_time": "2025-02-14T17:42:12.457486",
     "exception": false,
     "start_time": "2025-02-14T17:42:12.453606",
     "status": "completed"
    },
    "tags": []
   },
   "source": [
    "# Display the report in the notebook"
   ]
  },
  {
   "cell_type": "code",
   "execution_count": 7,
   "id": "c0351e49",
   "metadata": {
    "execution": {
     "iopub.execute_input": "2025-02-14T17:42:12.467000Z",
     "iopub.status.busy": "2025-02-14T17:42:12.466659Z",
     "iopub.status.idle": "2025-02-14T17:42:12.475248Z",
     "shell.execute_reply": "2025-02-14T17:42:12.474252Z"
    },
    "papermill": {
     "duration": 0.015013,
     "end_time": "2025-02-14T17:42:12.476522",
     "exception": false,
     "start_time": "2025-02-14T17:42:12.461509",
     "status": "completed"
    },
    "tags": []
   },
   "outputs": [
    {
     "name": "stdout",
     "output_type": "stream",
     "text": [
      "\n",
      "Displaying report using IFrame:\n"
     ]
    },
    {
     "data": {
      "text/html": [
       "\n",
       "        <iframe\n",
       "            width=\"1000\"\n",
       "            height=\"600\"\n",
       "            src=\"website_classification_profile.html\"\n",
       "            frameborder=\"0\"\n",
       "            allowfullscreen\n",
       "            \n",
       "        ></iframe>\n",
       "        "
      ],
      "text/plain": [
       "<IPython.lib.display.IFrame at 0x7b545d0f94b0>"
      ]
     },
     "metadata": {},
     "output_type": "display_data"
    },
    {
     "name": "stdout",
     "output_type": "stream",
     "text": [
      "\n",
      "Or you can download the report using this link:\n"
     ]
    },
    {
     "data": {
      "text/html": [
       "<a href='website_classification_profile.html' target='_blank'>website_classification_profile.html</a><br>"
      ],
      "text/plain": [
       "/kaggle/working/website_classification_profile.html"
      ]
     },
     "metadata": {},
     "output_type": "display_data"
    }
   ],
   "source": [
    "print(\"\\nDisplaying report using IFrame:\")\n",
    "display(IFrame(src=\"website_classification_profile.html\", width=1000, height=600))\n",
    "\n",
    "print(\"\\nOr you can download the report using this link:\")\n",
    "display(FileLink('website_classification_profile.html'))"
   ]
  },
  {
   "cell_type": "markdown",
   "id": "de675a51",
   "metadata": {
    "papermill": {
     "duration": 0.004733,
     "end_time": "2025-02-14T17:42:12.487782",
     "exception": false,
     "start_time": "2025-02-14T17:42:12.483049",
     "status": "completed"
    },
    "tags": []
   },
   "source": [
    "# Dataset Preprocessing\n",
    "* # Drop Duplicate data\n",
    "* # Check Null data"
   ]
  },
  {
   "cell_type": "code",
   "execution_count": 8,
   "id": "d2b6f13e",
   "metadata": {
    "execution": {
     "iopub.execute_input": "2025-02-14T17:42:12.499785Z",
     "iopub.status.busy": "2025-02-14T17:42:12.499364Z",
     "iopub.status.idle": "2025-02-14T17:42:12.520665Z",
     "shell.execute_reply": "2025-02-14T17:42:12.519693Z"
    },
    "papermill": {
     "duration": 0.029466,
     "end_time": "2025-02-14T17:42:12.522480",
     "exception": false,
     "start_time": "2025-02-14T17:42:12.493014",
     "status": "completed"
    },
    "tags": []
   },
   "outputs": [],
   "source": [
    "dataset.drop_duplicates(inplace=True)"
   ]
  },
  {
   "cell_type": "code",
   "execution_count": 9,
   "id": "135dd07c",
   "metadata": {
    "execution": {
     "iopub.execute_input": "2025-02-14T17:42:12.533732Z",
     "iopub.status.busy": "2025-02-14T17:42:12.533407Z",
     "iopub.status.idle": "2025-02-14T17:42:12.544548Z",
     "shell.execute_reply": "2025-02-14T17:42:12.543763Z"
    },
    "papermill": {
     "duration": 0.018012,
     "end_time": "2025-02-14T17:42:12.545788",
     "exception": false,
     "start_time": "2025-02-14T17:42:12.527776",
     "status": "completed"
    },
    "tags": []
   },
   "outputs": [
    {
     "data": {
      "text/html": [
       "<div>\n",
       "<style scoped>\n",
       "    .dataframe tbody tr th:only-of-type {\n",
       "        vertical-align: middle;\n",
       "    }\n",
       "\n",
       "    .dataframe tbody tr th {\n",
       "        vertical-align: top;\n",
       "    }\n",
       "\n",
       "    .dataframe thead th {\n",
       "        text-align: right;\n",
       "    }\n",
       "</style>\n",
       "<table border=\"1\" class=\"dataframe\">\n",
       "  <thead>\n",
       "    <tr style=\"text-align: right;\">\n",
       "      <th></th>\n",
       "      <th>Unnamed: 0</th>\n",
       "      <th>website_url</th>\n",
       "      <th>cleaned_website_text</th>\n",
       "      <th>Category</th>\n",
       "    </tr>\n",
       "  </thead>\n",
       "  <tbody>\n",
       "    <tr>\n",
       "      <th>0</th>\n",
       "      <td>0</td>\n",
       "      <td>https://www.booking.com/index.html?aid=1743217</td>\n",
       "      <td>official site good hotel accommodation big sav...</td>\n",
       "      <td>Travel</td>\n",
       "    </tr>\n",
       "    <tr>\n",
       "      <th>1</th>\n",
       "      <td>1</td>\n",
       "      <td>https://travelsites.com/expedia/</td>\n",
       "      <td>expedia hotel book sites like use vacation wor...</td>\n",
       "      <td>Travel</td>\n",
       "    </tr>\n",
       "    <tr>\n",
       "      <th>2</th>\n",
       "      <td>2</td>\n",
       "      <td>https://travelsites.com/tripadvisor/</td>\n",
       "      <td>tripadvisor hotel book sites like previously d...</td>\n",
       "      <td>Travel</td>\n",
       "    </tr>\n",
       "    <tr>\n",
       "      <th>3</th>\n",
       "      <td>3</td>\n",
       "      <td>https://www.momondo.in/?ispredir=true</td>\n",
       "      <td>cheap flights search compare flights momondo f...</td>\n",
       "      <td>Travel</td>\n",
       "    </tr>\n",
       "    <tr>\n",
       "      <th>4</th>\n",
       "      <td>4</td>\n",
       "      <td>https://www.ebookers.com/?AFFCID=EBOOKERS-UK.n...</td>\n",
       "      <td>bot create free account create free account si...</td>\n",
       "      <td>Travel</td>\n",
       "    </tr>\n",
       "    <tr>\n",
       "      <th>...</th>\n",
       "      <td>...</td>\n",
       "      <td>...</td>\n",
       "      <td>...</td>\n",
       "      <td>...</td>\n",
       "    </tr>\n",
       "    <tr>\n",
       "      <th>1403</th>\n",
       "      <td>1403</td>\n",
       "      <td>http://www.oldwomen.org/</td>\n",
       "      <td>old nude women porn mature granny sex horny ol...</td>\n",
       "      <td>Adult</td>\n",
       "    </tr>\n",
       "    <tr>\n",
       "      <th>1404</th>\n",
       "      <td>1404</td>\n",
       "      <td>http://www.webcamslave.com</td>\n",
       "      <td>bdsm cams bdsm chat bondage cams free bdsm vid...</td>\n",
       "      <td>Adult</td>\n",
       "    </tr>\n",
       "    <tr>\n",
       "      <th>1405</th>\n",
       "      <td>1405</td>\n",
       "      <td>http://www.buyeuroporn.com/</td>\n",
       "      <td>porno dvd online european porn dvd cheap adult...</td>\n",
       "      <td>Adult</td>\n",
       "    </tr>\n",
       "    <tr>\n",
       "      <th>1406</th>\n",
       "      <td>1406</td>\n",
       "      <td>http://www.analdreamhouse.com/30/03/agecheck/i...</td>\n",
       "      <td>anal dream house anal dream house anal dream h...</td>\n",
       "      <td>Adult</td>\n",
       "    </tr>\n",
       "    <tr>\n",
       "      <th>1407</th>\n",
       "      <td>1407</td>\n",
       "      <td>http://www.world-sex-news.com/</td>\n",
       "      <td>world sex news daily sex news adult news eroti...</td>\n",
       "      <td>Adult</td>\n",
       "    </tr>\n",
       "  </tbody>\n",
       "</table>\n",
       "<p>1408 rows × 4 columns</p>\n",
       "</div>"
      ],
      "text/plain": [
       "      Unnamed: 0                                        website_url  \\\n",
       "0              0     https://www.booking.com/index.html?aid=1743217   \n",
       "1              1                   https://travelsites.com/expedia/   \n",
       "2              2               https://travelsites.com/tripadvisor/   \n",
       "3              3              https://www.momondo.in/?ispredir=true   \n",
       "4              4  https://www.ebookers.com/?AFFCID=EBOOKERS-UK.n...   \n",
       "...          ...                                                ...   \n",
       "1403        1403                           http://www.oldwomen.org/   \n",
       "1404        1404                         http://www.webcamslave.com   \n",
       "1405        1405                        http://www.buyeuroporn.com/   \n",
       "1406        1406  http://www.analdreamhouse.com/30/03/agecheck/i...   \n",
       "1407        1407                     http://www.world-sex-news.com/   \n",
       "\n",
       "                                   cleaned_website_text Category  \n",
       "0     official site good hotel accommodation big sav...   Travel  \n",
       "1     expedia hotel book sites like use vacation wor...   Travel  \n",
       "2     tripadvisor hotel book sites like previously d...   Travel  \n",
       "3     cheap flights search compare flights momondo f...   Travel  \n",
       "4     bot create free account create free account si...   Travel  \n",
       "...                                                 ...      ...  \n",
       "1403  old nude women porn mature granny sex horny ol...    Adult  \n",
       "1404  bdsm cams bdsm chat bondage cams free bdsm vid...    Adult  \n",
       "1405  porno dvd online european porn dvd cheap adult...    Adult  \n",
       "1406  anal dream house anal dream house anal dream h...    Adult  \n",
       "1407  world sex news daily sex news adult news eroti...    Adult  \n",
       "\n",
       "[1408 rows x 4 columns]"
      ]
     },
     "execution_count": 9,
     "metadata": {},
     "output_type": "execute_result"
    }
   ],
   "source": [
    "dataset"
   ]
  },
  {
   "cell_type": "code",
   "execution_count": 10,
   "id": "3bbc3371",
   "metadata": {
    "execution": {
     "iopub.execute_input": "2025-02-14T17:42:12.557535Z",
     "iopub.status.busy": "2025-02-14T17:42:12.557233Z",
     "iopub.status.idle": "2025-02-14T17:42:12.563866Z",
     "shell.execute_reply": "2025-02-14T17:42:12.563088Z"
    },
    "papermill": {
     "duration": 0.013562,
     "end_time": "2025-02-14T17:42:12.565153",
     "exception": false,
     "start_time": "2025-02-14T17:42:12.551591",
     "status": "completed"
    },
    "tags": []
   },
   "outputs": [
    {
     "data": {
      "text/plain": [
       "Unnamed: 0              0\n",
       "website_url             0\n",
       "cleaned_website_text    0\n",
       "Category                0\n",
       "dtype: int64"
      ]
     },
     "execution_count": 10,
     "metadata": {},
     "output_type": "execute_result"
    }
   ],
   "source": [
    "dataset.isnull().sum()"
   ]
  },
  {
   "cell_type": "markdown",
   "id": "af53d298",
   "metadata": {
    "papermill": {
     "duration": 0.004676,
     "end_time": "2025-02-14T17:42:12.575815",
     "exception": false,
     "start_time": "2025-02-14T17:42:12.571139",
     "status": "completed"
    },
    "tags": []
   },
   "source": [
    "# Model Training and Testing\n",
    "* # Split the data\n",
    "* # Convert the data from text to numeric values\n",
    "* # Train the model\n",
    "* # Model Evaluation"
   ]
  },
  {
   "cell_type": "code",
   "execution_count": 11,
   "id": "4f6ebe8e",
   "metadata": {
    "execution": {
     "iopub.execute_input": "2025-02-14T17:42:12.586853Z",
     "iopub.status.busy": "2025-02-14T17:42:12.586395Z",
     "iopub.status.idle": "2025-02-14T17:42:12.591140Z",
     "shell.execute_reply": "2025-02-14T17:42:12.590147Z"
    },
    "papermill": {
     "duration": 0.012179,
     "end_time": "2025-02-14T17:42:12.592690",
     "exception": false,
     "start_time": "2025-02-14T17:42:12.580511",
     "status": "completed"
    },
    "tags": []
   },
   "outputs": [],
   "source": [
    "x = dataset.cleaned_website_text.values\n",
    "y = dataset.Category.values"
   ]
  },
  {
   "cell_type": "code",
   "execution_count": 12,
   "id": "271b3e0e",
   "metadata": {
    "execution": {
     "iopub.execute_input": "2025-02-14T17:42:12.604781Z",
     "iopub.status.busy": "2025-02-14T17:42:12.604378Z",
     "iopub.status.idle": "2025-02-14T17:42:12.609896Z",
     "shell.execute_reply": "2025-02-14T17:42:12.608997Z"
    },
    "papermill": {
     "duration": 0.013085,
     "end_time": "2025-02-14T17:42:12.611267",
     "exception": false,
     "start_time": "2025-02-14T17:42:12.598182",
     "status": "completed"
    },
    "tags": []
   },
   "outputs": [],
   "source": [
    "xtrain,xtest,ytrain,ytest=train_test_split(x ,y,test_size=.2 ,random_state =42)"
   ]
  },
  {
   "cell_type": "code",
   "execution_count": 13,
   "id": "641b7f9d",
   "metadata": {
    "execution": {
     "iopub.execute_input": "2025-02-14T17:42:12.623008Z",
     "iopub.status.busy": "2025-02-14T17:42:12.622626Z",
     "iopub.status.idle": "2025-02-14T17:42:13.204058Z",
     "shell.execute_reply": "2025-02-14T17:42:13.202524Z"
    },
    "papermill": {
     "duration": 0.589432,
     "end_time": "2025-02-14T17:42:13.206097",
     "exception": false,
     "start_time": "2025-02-14T17:42:12.616665",
     "status": "completed"
    },
    "tags": []
   },
   "outputs": [],
   "source": [
    "cv=CountVectorizer()\n",
    "x_train=cv.fit_transform(xtrain)"
   ]
  },
  {
   "cell_type": "code",
   "execution_count": 14,
   "id": "f3f03904",
   "metadata": {
    "execution": {
     "iopub.execute_input": "2025-02-14T17:42:13.219102Z",
     "iopub.status.busy": "2025-02-14T17:42:13.218693Z",
     "iopub.status.idle": "2025-02-14T17:42:13.289586Z",
     "shell.execute_reply": "2025-02-14T17:42:13.288828Z"
    },
    "papermill": {
     "duration": 0.079136,
     "end_time": "2025-02-14T17:42:13.291249",
     "exception": false,
     "start_time": "2025-02-14T17:42:13.212113",
     "status": "completed"
    },
    "tags": []
   },
   "outputs": [
    {
     "data": {
      "text/html": [
       "<style>#sk-container-id-1 {color: black;background-color: white;}#sk-container-id-1 pre{padding: 0;}#sk-container-id-1 div.sk-toggleable {background-color: white;}#sk-container-id-1 label.sk-toggleable__label {cursor: pointer;display: block;width: 100%;margin-bottom: 0;padding: 0.3em;box-sizing: border-box;text-align: center;}#sk-container-id-1 label.sk-toggleable__label-arrow:before {content: \"▸\";float: left;margin-right: 0.25em;color: #696969;}#sk-container-id-1 label.sk-toggleable__label-arrow:hover:before {color: black;}#sk-container-id-1 div.sk-estimator:hover label.sk-toggleable__label-arrow:before {color: black;}#sk-container-id-1 div.sk-toggleable__content {max-height: 0;max-width: 0;overflow: hidden;text-align: left;background-color: #f0f8ff;}#sk-container-id-1 div.sk-toggleable__content pre {margin: 0.2em;color: black;border-radius: 0.25em;background-color: #f0f8ff;}#sk-container-id-1 input.sk-toggleable__control:checked~div.sk-toggleable__content {max-height: 200px;max-width: 100%;overflow: auto;}#sk-container-id-1 input.sk-toggleable__control:checked~label.sk-toggleable__label-arrow:before {content: \"▾\";}#sk-container-id-1 div.sk-estimator input.sk-toggleable__control:checked~label.sk-toggleable__label {background-color: #d4ebff;}#sk-container-id-1 div.sk-label input.sk-toggleable__control:checked~label.sk-toggleable__label {background-color: #d4ebff;}#sk-container-id-1 input.sk-hidden--visually {border: 0;clip: rect(1px 1px 1px 1px);clip: rect(1px, 1px, 1px, 1px);height: 1px;margin: -1px;overflow: hidden;padding: 0;position: absolute;width: 1px;}#sk-container-id-1 div.sk-estimator {font-family: monospace;background-color: #f0f8ff;border: 1px dotted black;border-radius: 0.25em;box-sizing: border-box;margin-bottom: 0.5em;}#sk-container-id-1 div.sk-estimator:hover {background-color: #d4ebff;}#sk-container-id-1 div.sk-parallel-item::after {content: \"\";width: 100%;border-bottom: 1px solid gray;flex-grow: 1;}#sk-container-id-1 div.sk-label:hover label.sk-toggleable__label {background-color: #d4ebff;}#sk-container-id-1 div.sk-serial::before {content: \"\";position: absolute;border-left: 1px solid gray;box-sizing: border-box;top: 0;bottom: 0;left: 50%;z-index: 0;}#sk-container-id-1 div.sk-serial {display: flex;flex-direction: column;align-items: center;background-color: white;padding-right: 0.2em;padding-left: 0.2em;position: relative;}#sk-container-id-1 div.sk-item {position: relative;z-index: 1;}#sk-container-id-1 div.sk-parallel {display: flex;align-items: stretch;justify-content: center;background-color: white;position: relative;}#sk-container-id-1 div.sk-item::before, #sk-container-id-1 div.sk-parallel-item::before {content: \"\";position: absolute;border-left: 1px solid gray;box-sizing: border-box;top: 0;bottom: 0;left: 50%;z-index: -1;}#sk-container-id-1 div.sk-parallel-item {display: flex;flex-direction: column;z-index: 1;position: relative;background-color: white;}#sk-container-id-1 div.sk-parallel-item:first-child::after {align-self: flex-end;width: 50%;}#sk-container-id-1 div.sk-parallel-item:last-child::after {align-self: flex-start;width: 50%;}#sk-container-id-1 div.sk-parallel-item:only-child::after {width: 0;}#sk-container-id-1 div.sk-dashed-wrapped {border: 1px dashed gray;margin: 0 0.4em 0.5em 0.4em;box-sizing: border-box;padding-bottom: 0.4em;background-color: white;}#sk-container-id-1 div.sk-label label {font-family: monospace;font-weight: bold;display: inline-block;line-height: 1.2em;}#sk-container-id-1 div.sk-label-container {text-align: center;}#sk-container-id-1 div.sk-container {/* jupyter's `normalize.less` sets `[hidden] { display: none; }` but bootstrap.min.css set `[hidden] { display: none !important; }` so we also need the `!important` here to be able to override the default hidden behavior on the sphinx rendered scikit-learn.org. See: https://github.com/scikit-learn/scikit-learn/issues/21755 */display: inline-block !important;position: relative;}#sk-container-id-1 div.sk-text-repr-fallback {display: none;}</style><div id=\"sk-container-id-1\" class=\"sk-top-container\"><div class=\"sk-text-repr-fallback\"><pre>MultinomialNB()</pre><b>In a Jupyter environment, please rerun this cell to show the HTML representation or trust the notebook. <br />On GitHub, the HTML representation is unable to render, please try loading this page with nbviewer.org.</b></div><div class=\"sk-container\" hidden><div class=\"sk-item\"><div class=\"sk-estimator sk-toggleable\"><input class=\"sk-toggleable__control sk-hidden--visually\" id=\"sk-estimator-id-1\" type=\"checkbox\" checked><label for=\"sk-estimator-id-1\" class=\"sk-toggleable__label sk-toggleable__label-arrow\">MultinomialNB</label><div class=\"sk-toggleable__content\"><pre>MultinomialNB()</pre></div></div></div></div></div>"
      ],
      "text/plain": [
       "MultinomialNB()"
      ]
     },
     "execution_count": 14,
     "metadata": {},
     "output_type": "execute_result"
    }
   ],
   "source": [
    "model = MultinomialNB()\n",
    "model.fit(x_train,ytrain)"
   ]
  },
  {
   "cell_type": "code",
   "execution_count": 15,
   "id": "abd6346d",
   "metadata": {
    "execution": {
     "iopub.execute_input": "2025-02-14T17:42:13.302968Z",
     "iopub.status.busy": "2025-02-14T17:42:13.302653Z",
     "iopub.status.idle": "2025-02-14T17:42:13.419034Z",
     "shell.execute_reply": "2025-02-14T17:42:13.418121Z"
    },
    "papermill": {
     "duration": 0.123411,
     "end_time": "2025-02-14T17:42:13.420553",
     "exception": false,
     "start_time": "2025-02-14T17:42:13.297142",
     "status": "completed"
    },
    "tags": []
   },
   "outputs": [],
   "source": [
    "x_test = cv.transform(xtest)"
   ]
  },
  {
   "cell_type": "markdown",
   "id": "cd475ac9",
   "metadata": {
    "papermill": {
     "duration": 0.004791,
     "end_time": "2025-02-14T17:42:13.430579",
     "exception": false,
     "start_time": "2025-02-14T17:42:13.425788",
     "status": "completed"
    },
    "tags": []
   },
   "source": [
    "# Model Performance score"
   ]
  },
  {
   "cell_type": "code",
   "execution_count": 16,
   "id": "36c8d716",
   "metadata": {
    "execution": {
     "iopub.execute_input": "2025-02-14T17:42:13.442103Z",
     "iopub.status.busy": "2025-02-14T17:42:13.441615Z",
     "iopub.status.idle": "2025-02-14T17:42:13.454304Z",
     "shell.execute_reply": "2025-02-14T17:42:13.452895Z"
    },
    "papermill": {
     "duration": 0.020021,
     "end_time": "2025-02-14T17:42:13.455576",
     "exception": false,
     "start_time": "2025-02-14T17:42:13.435555",
     "status": "completed"
    },
    "tags": []
   },
   "outputs": [
    {
     "data": {
      "text/plain": [
       "0.8687943262411347"
      ]
     },
     "execution_count": 16,
     "metadata": {},
     "output_type": "execute_result"
    }
   ],
   "source": [
    "model.score(x_test,ytest)"
   ]
  },
  {
   "cell_type": "markdown",
   "id": "ca0f7cc6",
   "metadata": {
    "papermill": {
     "duration": 0.004795,
     "end_time": "2025-02-14T17:42:13.466051",
     "exception": false,
     "start_time": "2025-02-14T17:42:13.461256",
     "status": "completed"
    },
    "tags": []
   },
   "source": [
    "# Testing using some real time data"
   ]
  },
  {
   "cell_type": "code",
   "execution_count": 17,
   "id": "0c4086d9",
   "metadata": {
    "execution": {
     "iopub.execute_input": "2025-02-14T17:42:13.477158Z",
     "iopub.status.busy": "2025-02-14T17:42:13.476836Z",
     "iopub.status.idle": "2025-02-14T17:42:13.480901Z",
     "shell.execute_reply": "2025-02-14T17:42:13.479813Z"
    },
    "papermill": {
     "duration": 0.011632,
     "end_time": "2025-02-14T17:42:13.482615",
     "exception": false,
     "start_time": "2025-02-14T17:42:13.470983",
     "status": "completed"
    },
    "tags": []
   },
   "outputs": [],
   "source": [
    "testcase = [\n",
    "    \"Bangladesh have been the perennial underdogs in International cricket, but somehow seem to always compete hard at the upper echelons of the sport. The team have been on a patchy record of late. In their recent tour of the West Indies, they drew the Test series 1-1, then were whitewashed in the three ODI contests, but came back to win the T20I series 3-0.\",\n",
    "    \"Naive Bayes classifiers are supervised machine learning algorithms used for classification tasks, based on Bayes’ Theorem to find probabilities. This article will give you an overview as well as more advanced use and implementation of Naive Bayes in machine learning.\",\n",
    "    \"Would you like millions of new customers to enjoy your amazing food and groceries? So would we! It's simple: we list your menu and product lists online, help you process orders, pick them up, and deliver them to hungry pandas – in a heartbeat! Interested? Let's start our partnership today!\"\n",
    "]\n"
   ]
  },
  {
   "cell_type": "code",
   "execution_count": 18,
   "id": "73a2c562",
   "metadata": {
    "execution": {
     "iopub.execute_input": "2025-02-14T17:42:13.496170Z",
     "iopub.status.busy": "2025-02-14T17:42:13.495772Z",
     "iopub.status.idle": "2025-02-14T17:42:13.500260Z",
     "shell.execute_reply": "2025-02-14T17:42:13.499206Z"
    },
    "papermill": {
     "duration": 0.013572,
     "end_time": "2025-02-14T17:42:13.502264",
     "exception": false,
     "start_time": "2025-02-14T17:42:13.488692",
     "status": "completed"
    },
    "tags": []
   },
   "outputs": [],
   "source": [
    "cv_testcase = cv.transform(testcase)"
   ]
  },
  {
   "cell_type": "code",
   "execution_count": 19,
   "id": "e9b063f0",
   "metadata": {
    "execution": {
     "iopub.execute_input": "2025-02-14T17:42:13.515926Z",
     "iopub.status.busy": "2025-02-14T17:42:13.515534Z",
     "iopub.status.idle": "2025-02-14T17:42:13.521352Z",
     "shell.execute_reply": "2025-02-14T17:42:13.520630Z"
    },
    "papermill": {
     "duration": 0.013878,
     "end_time": "2025-02-14T17:42:13.522546",
     "exception": false,
     "start_time": "2025-02-14T17:42:13.508668",
     "status": "completed"
    },
    "tags": []
   },
   "outputs": [
    {
     "data": {
      "text/plain": [
       "array(['Sports', 'Computers and Technology', 'E-Commerce'], dtype='<U31')"
      ]
     },
     "execution_count": 19,
     "metadata": {},
     "output_type": "execute_result"
    }
   ],
   "source": [
    "model.predict(cv_testcase)"
   ]
  }
 ],
 "metadata": {
  "kaggle": {
   "accelerator": "none",
   "dataSources": [
    {
     "datasetId": 1317934,
     "sourceId": 2194939,
     "sourceType": "datasetVersion"
    }
   ],
   "dockerImageVersionId": 30886,
   "isGpuEnabled": false,
   "isInternetEnabled": true,
   "language": "python",
   "sourceType": "notebook"
  },
  "kernelspec": {
   "display_name": "Python 3",
   "language": "python",
   "name": "python3"
  },
  "language_info": {
   "codemirror_mode": {
    "name": "ipython",
    "version": 3
   },
   "file_extension": ".py",
   "mimetype": "text/x-python",
   "name": "python",
   "nbconvert_exporter": "python",
   "pygments_lexer": "ipython3",
   "version": "3.10.12"
  },
  "papermill": {
   "default_parameters": {},
   "duration": 16.78328,
   "end_time": "2025-02-14T17:42:14.750390",
   "environment_variables": {},
   "exception": null,
   "input_path": "__notebook__.ipynb",
   "output_path": "__notebook__.ipynb",
   "parameters": {},
   "start_time": "2025-02-14T17:41:57.967110",
   "version": "2.6.0"
  },
  "widgets": {
   "application/vnd.jupyter.widget-state+json": {
    "state": {
     "0037c8729299453694d888d242607d27": {
      "model_module": "@jupyter-widgets/base",
      "model_module_version": "2.0.0",
      "model_name": "LayoutModel",
      "state": {
       "_model_module": "@jupyter-widgets/base",
       "_model_module_version": "2.0.0",
       "_model_name": "LayoutModel",
       "_view_count": null,
       "_view_module": "@jupyter-widgets/base",
       "_view_module_version": "2.0.0",
       "_view_name": "LayoutView",
       "align_content": null,
       "align_items": null,
       "align_self": null,
       "border_bottom": null,
       "border_left": null,
       "border_right": null,
       "border_top": null,
       "bottom": null,
       "display": null,
       "flex": null,
       "flex_flow": null,
       "grid_area": null,
       "grid_auto_columns": null,
       "grid_auto_flow": null,
       "grid_auto_rows": null,
       "grid_column": null,
       "grid_gap": null,
       "grid_row": null,
       "grid_template_areas": null,
       "grid_template_columns": null,
       "grid_template_rows": null,
       "height": null,
       "justify_content": null,
       "justify_items": null,
       "left": null,
       "margin": null,
       "max_height": null,
       "max_width": null,
       "min_height": null,
       "min_width": null,
       "object_fit": null,
       "object_position": null,
       "order": null,
       "overflow": null,
       "padding": null,
       "right": null,
       "top": null,
       "visibility": null,
       "width": null
      }
     },
     "12b06c59b4e4433d8871d8604e8e1b9b": {
      "model_module": "@jupyter-widgets/controls",
      "model_module_version": "2.0.0",
      "model_name": "FloatProgressModel",
      "state": {
       "_dom_classes": [],
       "_model_module": "@jupyter-widgets/controls",
       "_model_module_version": "2.0.0",
       "_model_name": "FloatProgressModel",
       "_view_count": null,
       "_view_module": "@jupyter-widgets/controls",
       "_view_module_version": "2.0.0",
       "_view_name": "ProgressView",
       "bar_style": "success",
       "description": "",
       "description_allow_html": false,
       "layout": "IPY_MODEL_744c62d3122b4fdeb51dfc2054223459",
       "max": 5.0,
       "min": 0.0,
       "orientation": "horizontal",
       "style": "IPY_MODEL_8526833d7b374cfe8979e7dd946f3d01",
       "tabbable": null,
       "tooltip": null,
       "value": 5.0
      }
     },
     "18bfd6544edd42f1ae005aa240817550": {
      "model_module": "@jupyter-widgets/base",
      "model_module_version": "2.0.0",
      "model_name": "LayoutModel",
      "state": {
       "_model_module": "@jupyter-widgets/base",
       "_model_module_version": "2.0.0",
       "_model_name": "LayoutModel",
       "_view_count": null,
       "_view_module": "@jupyter-widgets/base",
       "_view_module_version": "2.0.0",
       "_view_name": "LayoutView",
       "align_content": null,
       "align_items": null,
       "align_self": null,
       "border_bottom": null,
       "border_left": null,
       "border_right": null,
       "border_top": null,
       "bottom": null,
       "display": null,
       "flex": null,
       "flex_flow": null,
       "grid_area": null,
       "grid_auto_columns": null,
       "grid_auto_flow": null,
       "grid_auto_rows": null,
       "grid_column": null,
       "grid_gap": null,
       "grid_row": null,
       "grid_template_areas": null,
       "grid_template_columns": null,
       "grid_template_rows": null,
       "height": null,
       "justify_content": null,
       "justify_items": null,
       "left": null,
       "margin": null,
       "max_height": null,
       "max_width": null,
       "min_height": null,
       "min_width": null,
       "object_fit": null,
       "object_position": null,
       "order": null,
       "overflow": null,
       "padding": null,
       "right": null,
       "top": null,
       "visibility": null,
       "width": null
      }
     },
     "1d88be19d3104fe8ad398c9882ee8314": {
      "model_module": "@jupyter-widgets/base",
      "model_module_version": "2.0.0",
      "model_name": "LayoutModel",
      "state": {
       "_model_module": "@jupyter-widgets/base",
       "_model_module_version": "2.0.0",
       "_model_name": "LayoutModel",
       "_view_count": null,
       "_view_module": "@jupyter-widgets/base",
       "_view_module_version": "2.0.0",
       "_view_name": "LayoutView",
       "align_content": null,
       "align_items": null,
       "align_self": null,
       "border_bottom": null,
       "border_left": null,
       "border_right": null,
       "border_top": null,
       "bottom": null,
       "display": null,
       "flex": null,
       "flex_flow": null,
       "grid_area": null,
       "grid_auto_columns": null,
       "grid_auto_flow": null,
       "grid_auto_rows": null,
       "grid_column": null,
       "grid_gap": null,
       "grid_row": null,
       "grid_template_areas": null,
       "grid_template_columns": null,
       "grid_template_rows": null,
       "height": null,
       "justify_content": null,
       "justify_items": null,
       "left": null,
       "margin": null,
       "max_height": null,
       "max_width": null,
       "min_height": null,
       "min_width": null,
       "object_fit": null,
       "object_position": null,
       "order": null,
       "overflow": null,
       "padding": null,
       "right": null,
       "top": null,
       "visibility": null,
       "width": null
      }
     },
     "244edab9fb394611a3d150cdf4a43b70": {
      "model_module": "@jupyter-widgets/controls",
      "model_module_version": "2.0.0",
      "model_name": "HTMLModel",
      "state": {
       "_dom_classes": [],
       "_model_module": "@jupyter-widgets/controls",
       "_model_module_version": "2.0.0",
       "_model_name": "HTMLModel",
       "_view_count": null,
       "_view_module": "@jupyter-widgets/controls",
       "_view_module_version": "2.0.0",
       "_view_name": "HTMLView",
       "description": "",
       "description_allow_html": false,
       "layout": "IPY_MODEL_3cd63c5a48554f9ea8a6277b91b80b34",
       "placeholder": "​",
       "style": "IPY_MODEL_7dc08f6430254265b16668343c4caf1f",
       "tabbable": null,
       "tooltip": null,
       "value": "Export report to file: 100%"
      }
     },
     "2bf2a3620d0549cdbc9e803628f740c9": {
      "model_module": "@jupyter-widgets/base",
      "model_module_version": "2.0.0",
      "model_name": "LayoutModel",
      "state": {
       "_model_module": "@jupyter-widgets/base",
       "_model_module_version": "2.0.0",
       "_model_name": "LayoutModel",
       "_view_count": null,
       "_view_module": "@jupyter-widgets/base",
       "_view_module_version": "2.0.0",
       "_view_name": "LayoutView",
       "align_content": null,
       "align_items": null,
       "align_self": null,
       "border_bottom": null,
       "border_left": null,
       "border_right": null,
       "border_top": null,
       "bottom": null,
       "display": null,
       "flex": null,
       "flex_flow": null,
       "grid_area": null,
       "grid_auto_columns": null,
       "grid_auto_flow": null,
       "grid_auto_rows": null,
       "grid_column": null,
       "grid_gap": null,
       "grid_row": null,
       "grid_template_areas": null,
       "grid_template_columns": null,
       "grid_template_rows": null,
       "height": null,
       "justify_content": null,
       "justify_items": null,
       "left": null,
       "margin": null,
       "max_height": null,
       "max_width": null,
       "min_height": null,
       "min_width": null,
       "object_fit": null,
       "object_position": null,
       "order": null,
       "overflow": null,
       "padding": null,
       "right": null,
       "top": null,
       "visibility": null,
       "width": null
      }
     },
     "2c5e8166f28040ef9a88a7e83210c117": {
      "model_module": "@jupyter-widgets/controls",
      "model_module_version": "2.0.0",
      "model_name": "HTMLModel",
      "state": {
       "_dom_classes": [],
       "_model_module": "@jupyter-widgets/controls",
       "_model_module_version": "2.0.0",
       "_model_name": "HTMLModel",
       "_view_count": null,
       "_view_module": "@jupyter-widgets/controls",
       "_view_module_version": "2.0.0",
       "_view_name": "HTMLView",
       "description": "",
       "description_allow_html": false,
       "layout": "IPY_MODEL_4f8c4c9295fc4d07974a7cf2a36e3e65",
       "placeholder": "​",
       "style": "IPY_MODEL_311503b481f9436a82904b0d33347575",
       "tabbable": null,
       "tooltip": null,
       "value": " 1/1 [00:00&lt;00:00, 73.77it/s]"
      }
     },
     "311503b481f9436a82904b0d33347575": {
      "model_module": "@jupyter-widgets/controls",
      "model_module_version": "2.0.0",
      "model_name": "HTMLStyleModel",
      "state": {
       "_model_module": "@jupyter-widgets/controls",
       "_model_module_version": "2.0.0",
       "_model_name": "HTMLStyleModel",
       "_view_count": null,
       "_view_module": "@jupyter-widgets/base",
       "_view_module_version": "2.0.0",
       "_view_name": "StyleView",
       "background": null,
       "description_width": "",
       "font_size": null,
       "text_color": null
      }
     },
     "3507f5bfdb9b4b9480ce0faf92803ea2": {
      "model_module": "@jupyter-widgets/controls",
      "model_module_version": "2.0.0",
      "model_name": "HTMLStyleModel",
      "state": {
       "_model_module": "@jupyter-widgets/controls",
       "_model_module_version": "2.0.0",
       "_model_name": "HTMLStyleModel",
       "_view_count": null,
       "_view_module": "@jupyter-widgets/base",
       "_view_module_version": "2.0.0",
       "_view_name": "StyleView",
       "background": null,
       "description_width": "",
       "font_size": null,
       "text_color": null
      }
     },
     "35b55eb3ec054ea7b0ec477eae4e3ce8": {
      "model_module": "@jupyter-widgets/controls",
      "model_module_version": "2.0.0",
      "model_name": "FloatProgressModel",
      "state": {
       "_dom_classes": [],
       "_model_module": "@jupyter-widgets/controls",
       "_model_module_version": "2.0.0",
       "_model_name": "FloatProgressModel",
       "_view_count": null,
       "_view_module": "@jupyter-widgets/controls",
       "_view_module_version": "2.0.0",
       "_view_name": "ProgressView",
       "bar_style": "success",
       "description": "",
       "description_allow_html": false,
       "layout": "IPY_MODEL_18bfd6544edd42f1ae005aa240817550",
       "max": 1.0,
       "min": 0.0,
       "orientation": "horizontal",
       "style": "IPY_MODEL_a75dbf8048de4f3cbb706269fa1a82e3",
       "tabbable": null,
       "tooltip": null,
       "value": 1.0
      }
     },
     "3cd63c5a48554f9ea8a6277b91b80b34": {
      "model_module": "@jupyter-widgets/base",
      "model_module_version": "2.0.0",
      "model_name": "LayoutModel",
      "state": {
       "_model_module": "@jupyter-widgets/base",
       "_model_module_version": "2.0.0",
       "_model_name": "LayoutModel",
       "_view_count": null,
       "_view_module": "@jupyter-widgets/base",
       "_view_module_version": "2.0.0",
       "_view_name": "LayoutView",
       "align_content": null,
       "align_items": null,
       "align_self": null,
       "border_bottom": null,
       "border_left": null,
       "border_right": null,
       "border_top": null,
       "bottom": null,
       "display": null,
       "flex": null,
       "flex_flow": null,
       "grid_area": null,
       "grid_auto_columns": null,
       "grid_auto_flow": null,
       "grid_auto_rows": null,
       "grid_column": null,
       "grid_gap": null,
       "grid_row": null,
       "grid_template_areas": null,
       "grid_template_columns": null,
       "grid_template_rows": null,
       "height": null,
       "justify_content": null,
       "justify_items": null,
       "left": null,
       "margin": null,
       "max_height": null,
       "max_width": null,
       "min_height": null,
       "min_width": null,
       "object_fit": null,
       "object_position": null,
       "order": null,
       "overflow": null,
       "padding": null,
       "right": null,
       "top": null,
       "visibility": null,
       "width": null
      }
     },
     "40d3970c68a24049b77bfabb63b1460d": {
      "model_module": "@jupyter-widgets/controls",
      "model_module_version": "2.0.0",
      "model_name": "HTMLStyleModel",
      "state": {
       "_model_module": "@jupyter-widgets/controls",
       "_model_module_version": "2.0.0",
       "_model_name": "HTMLStyleModel",
       "_view_count": null,
       "_view_module": "@jupyter-widgets/base",
       "_view_module_version": "2.0.0",
       "_view_name": "StyleView",
       "background": null,
       "description_width": "",
       "font_size": null,
       "text_color": null
      }
     },
     "49966494e9024f9cb133b2915c2fd715": {
      "model_module": "@jupyter-widgets/base",
      "model_module_version": "2.0.0",
      "model_name": "LayoutModel",
      "state": {
       "_model_module": "@jupyter-widgets/base",
       "_model_module_version": "2.0.0",
       "_model_name": "LayoutModel",
       "_view_count": null,
       "_view_module": "@jupyter-widgets/base",
       "_view_module_version": "2.0.0",
       "_view_name": "LayoutView",
       "align_content": null,
       "align_items": null,
       "align_self": null,
       "border_bottom": null,
       "border_left": null,
       "border_right": null,
       "border_top": null,
       "bottom": null,
       "display": null,
       "flex": null,
       "flex_flow": null,
       "grid_area": null,
       "grid_auto_columns": null,
       "grid_auto_flow": null,
       "grid_auto_rows": null,
       "grid_column": null,
       "grid_gap": null,
       "grid_row": null,
       "grid_template_areas": null,
       "grid_template_columns": null,
       "grid_template_rows": null,
       "height": null,
       "justify_content": null,
       "justify_items": null,
       "left": null,
       "margin": null,
       "max_height": null,
       "max_width": null,
       "min_height": null,
       "min_width": null,
       "object_fit": null,
       "object_position": null,
       "order": null,
       "overflow": null,
       "padding": null,
       "right": null,
       "top": null,
       "visibility": null,
       "width": null
      }
     },
     "4f272fd3b0804534841a83a36235c16a": {
      "model_module": "@jupyter-widgets/base",
      "model_module_version": "2.0.0",
      "model_name": "LayoutModel",
      "state": {
       "_model_module": "@jupyter-widgets/base",
       "_model_module_version": "2.0.0",
       "_model_name": "LayoutModel",
       "_view_count": null,
       "_view_module": "@jupyter-widgets/base",
       "_view_module_version": "2.0.0",
       "_view_name": "LayoutView",
       "align_content": null,
       "align_items": null,
       "align_self": null,
       "border_bottom": null,
       "border_left": null,
       "border_right": null,
       "border_top": null,
       "bottom": null,
       "display": null,
       "flex": null,
       "flex_flow": null,
       "grid_area": null,
       "grid_auto_columns": null,
       "grid_auto_flow": null,
       "grid_auto_rows": null,
       "grid_column": null,
       "grid_gap": null,
       "grid_row": null,
       "grid_template_areas": null,
       "grid_template_columns": null,
       "grid_template_rows": null,
       "height": null,
       "justify_content": null,
       "justify_items": null,
       "left": null,
       "margin": null,
       "max_height": null,
       "max_width": null,
       "min_height": null,
       "min_width": null,
       "object_fit": null,
       "object_position": null,
       "order": null,
       "overflow": null,
       "padding": null,
       "right": null,
       "top": null,
       "visibility": null,
       "width": null
      }
     },
     "4f8c4c9295fc4d07974a7cf2a36e3e65": {
      "model_module": "@jupyter-widgets/base",
      "model_module_version": "2.0.0",
      "model_name": "LayoutModel",
      "state": {
       "_model_module": "@jupyter-widgets/base",
       "_model_module_version": "2.0.0",
       "_model_name": "LayoutModel",
       "_view_count": null,
       "_view_module": "@jupyter-widgets/base",
       "_view_module_version": "2.0.0",
       "_view_name": "LayoutView",
       "align_content": null,
       "align_items": null,
       "align_self": null,
       "border_bottom": null,
       "border_left": null,
       "border_right": null,
       "border_top": null,
       "bottom": null,
       "display": null,
       "flex": null,
       "flex_flow": null,
       "grid_area": null,
       "grid_auto_columns": null,
       "grid_auto_flow": null,
       "grid_auto_rows": null,
       "grid_column": null,
       "grid_gap": null,
       "grid_row": null,
       "grid_template_areas": null,
       "grid_template_columns": null,
       "grid_template_rows": null,
       "height": null,
       "justify_content": null,
       "justify_items": null,
       "left": null,
       "margin": null,
       "max_height": null,
       "max_width": null,
       "min_height": null,
       "min_width": null,
       "object_fit": null,
       "object_position": null,
       "order": null,
       "overflow": null,
       "padding": null,
       "right": null,
       "top": null,
       "visibility": null,
       "width": null
      }
     },
     "5080dace84dc498ba82750c22d63f35f": {
      "model_module": "@jupyter-widgets/controls",
      "model_module_version": "2.0.0",
      "model_name": "FloatProgressModel",
      "state": {
       "_dom_classes": [],
       "_model_module": "@jupyter-widgets/controls",
       "_model_module_version": "2.0.0",
       "_model_name": "FloatProgressModel",
       "_view_count": null,
       "_view_module": "@jupyter-widgets/controls",
       "_view_module_version": "2.0.0",
       "_view_name": "ProgressView",
       "bar_style": "success",
       "description": "",
       "description_allow_html": false,
       "layout": "IPY_MODEL_de6487891df54d25b55e4c821d59277d",
       "max": 1.0,
       "min": 0.0,
       "orientation": "horizontal",
       "style": "IPY_MODEL_96fae19861c7450387f279d42c76ed93",
       "tabbable": null,
       "tooltip": null,
       "value": 1.0
      }
     },
     "577f3db7caa642418a3de8eecde47ed8": {
      "model_module": "@jupyter-widgets/base",
      "model_module_version": "2.0.0",
      "model_name": "LayoutModel",
      "state": {
       "_model_module": "@jupyter-widgets/base",
       "_model_module_version": "2.0.0",
       "_model_name": "LayoutModel",
       "_view_count": null,
       "_view_module": "@jupyter-widgets/base",
       "_view_module_version": "2.0.0",
       "_view_name": "LayoutView",
       "align_content": null,
       "align_items": null,
       "align_self": null,
       "border_bottom": null,
       "border_left": null,
       "border_right": null,
       "border_top": null,
       "bottom": null,
       "display": null,
       "flex": null,
       "flex_flow": null,
       "grid_area": null,
       "grid_auto_columns": null,
       "grid_auto_flow": null,
       "grid_auto_rows": null,
       "grid_column": null,
       "grid_gap": null,
       "grid_row": null,
       "grid_template_areas": null,
       "grid_template_columns": null,
       "grid_template_rows": null,
       "height": null,
       "justify_content": null,
       "justify_items": null,
       "left": null,
       "margin": null,
       "max_height": null,
       "max_width": null,
       "min_height": null,
       "min_width": null,
       "object_fit": null,
       "object_position": null,
       "order": null,
       "overflow": null,
       "padding": null,
       "right": null,
       "top": null,
       "visibility": null,
       "width": null
      }
     },
     "61c4d83c09074094ac1dbb52c90c3c7d": {
      "model_module": "@jupyter-widgets/controls",
      "model_module_version": "2.0.0",
      "model_name": "HTMLModel",
      "state": {
       "_dom_classes": [],
       "_model_module": "@jupyter-widgets/controls",
       "_model_module_version": "2.0.0",
       "_model_name": "HTMLModel",
       "_view_count": null,
       "_view_module": "@jupyter-widgets/controls",
       "_view_module_version": "2.0.0",
       "_view_name": "HTMLView",
       "description": "",
       "description_allow_html": false,
       "layout": "IPY_MODEL_bfc1f20fe9164044b72e5fd285044e96",
       "placeholder": "​",
       "style": "IPY_MODEL_3507f5bfdb9b4b9480ce0faf92803ea2",
       "tabbable": null,
       "tooltip": null,
       "value": "Summarize dataset: 100%"
      }
     },
     "744c62d3122b4fdeb51dfc2054223459": {
      "model_module": "@jupyter-widgets/base",
      "model_module_version": "2.0.0",
      "model_name": "LayoutModel",
      "state": {
       "_model_module": "@jupyter-widgets/base",
       "_model_module_version": "2.0.0",
       "_model_name": "LayoutModel",
       "_view_count": null,
       "_view_module": "@jupyter-widgets/base",
       "_view_module_version": "2.0.0",
       "_view_name": "LayoutView",
       "align_content": null,
       "align_items": null,
       "align_self": null,
       "border_bottom": null,
       "border_left": null,
       "border_right": null,
       "border_top": null,
       "bottom": null,
       "display": null,
       "flex": null,
       "flex_flow": null,
       "grid_area": null,
       "grid_auto_columns": null,
       "grid_auto_flow": null,
       "grid_auto_rows": null,
       "grid_column": null,
       "grid_gap": null,
       "grid_row": null,
       "grid_template_areas": null,
       "grid_template_columns": null,
       "grid_template_rows": null,
       "height": null,
       "justify_content": null,
       "justify_items": null,
       "left": null,
       "margin": null,
       "max_height": null,
       "max_width": null,
       "min_height": null,
       "min_width": null,
       "object_fit": null,
       "object_position": null,
       "order": null,
       "overflow": null,
       "padding": null,
       "right": null,
       "top": null,
       "visibility": null,
       "width": null
      }
     },
     "7a4490408501474f841a3932c4a2f535": {
      "model_module": "@jupyter-widgets/controls",
      "model_module_version": "2.0.0",
      "model_name": "HBoxModel",
      "state": {
       "_dom_classes": [],
       "_model_module": "@jupyter-widgets/controls",
       "_model_module_version": "2.0.0",
       "_model_name": "HBoxModel",
       "_view_count": null,
       "_view_module": "@jupyter-widgets/controls",
       "_view_module_version": "2.0.0",
       "_view_name": "HBoxView",
       "box_style": "",
       "children": [
        "IPY_MODEL_e2ab35ada3044238b75b3c65dc33ab15",
        "IPY_MODEL_5080dace84dc498ba82750c22d63f35f",
        "IPY_MODEL_cdfba741fc0040cda79730a71a5cf38f"
       ],
       "layout": "IPY_MODEL_0037c8729299453694d888d242607d27",
       "tabbable": null,
       "tooltip": null
      }
     },
     "7dc08f6430254265b16668343c4caf1f": {
      "model_module": "@jupyter-widgets/controls",
      "model_module_version": "2.0.0",
      "model_name": "HTMLStyleModel",
      "state": {
       "_model_module": "@jupyter-widgets/controls",
       "_model_module_version": "2.0.0",
       "_model_name": "HTMLStyleModel",
       "_view_count": null,
       "_view_module": "@jupyter-widgets/base",
       "_view_module_version": "2.0.0",
       "_view_name": "StyleView",
       "background": null,
       "description_width": "",
       "font_size": null,
       "text_color": null
      }
     },
     "8526833d7b374cfe8979e7dd946f3d01": {
      "model_module": "@jupyter-widgets/controls",
      "model_module_version": "2.0.0",
      "model_name": "ProgressStyleModel",
      "state": {
       "_model_module": "@jupyter-widgets/controls",
       "_model_module_version": "2.0.0",
       "_model_name": "ProgressStyleModel",
       "_view_count": null,
       "_view_module": "@jupyter-widgets/base",
       "_view_module_version": "2.0.0",
       "_view_name": "StyleView",
       "bar_color": null,
       "description_width": ""
      }
     },
     "8d0bf52608a7440bb5d9629c25ef4a89": {
      "model_module": "@jupyter-widgets/controls",
      "model_module_version": "2.0.0",
      "model_name": "ProgressStyleModel",
      "state": {
       "_model_module": "@jupyter-widgets/controls",
       "_model_module_version": "2.0.0",
       "_model_name": "ProgressStyleModel",
       "_view_count": null,
       "_view_module": "@jupyter-widgets/base",
       "_view_module_version": "2.0.0",
       "_view_name": "StyleView",
       "bar_color": null,
       "description_width": ""
      }
     },
     "93f17383517c4f88aad93f649769ca2f": {
      "model_module": "@jupyter-widgets/base",
      "model_module_version": "2.0.0",
      "model_name": "LayoutModel",
      "state": {
       "_model_module": "@jupyter-widgets/base",
       "_model_module_version": "2.0.0",
       "_model_name": "LayoutModel",
       "_view_count": null,
       "_view_module": "@jupyter-widgets/base",
       "_view_module_version": "2.0.0",
       "_view_name": "LayoutView",
       "align_content": null,
       "align_items": null,
       "align_self": null,
       "border_bottom": null,
       "border_left": null,
       "border_right": null,
       "border_top": null,
       "bottom": null,
       "display": null,
       "flex": null,
       "flex_flow": null,
       "grid_area": null,
       "grid_auto_columns": null,
       "grid_auto_flow": null,
       "grid_auto_rows": null,
       "grid_column": null,
       "grid_gap": null,
       "grid_row": null,
       "grid_template_areas": null,
       "grid_template_columns": null,
       "grid_template_rows": null,
       "height": null,
       "justify_content": null,
       "justify_items": null,
       "left": null,
       "margin": null,
       "max_height": null,
       "max_width": null,
       "min_height": null,
       "min_width": null,
       "object_fit": null,
       "object_position": null,
       "order": null,
       "overflow": null,
       "padding": null,
       "right": null,
       "top": null,
       "visibility": null,
       "width": null
      }
     },
     "96fae19861c7450387f279d42c76ed93": {
      "model_module": "@jupyter-widgets/controls",
      "model_module_version": "2.0.0",
      "model_name": "ProgressStyleModel",
      "state": {
       "_model_module": "@jupyter-widgets/controls",
       "_model_module_version": "2.0.0",
       "_model_name": "ProgressStyleModel",
       "_view_count": null,
       "_view_module": "@jupyter-widgets/base",
       "_view_module_version": "2.0.0",
       "_view_name": "StyleView",
       "bar_color": null,
       "description_width": ""
      }
     },
     "9bf2fb289c584baab26dd93a35aa87d0": {
      "model_module": "@jupyter-widgets/base",
      "model_module_version": "2.0.0",
      "model_name": "LayoutModel",
      "state": {
       "_model_module": "@jupyter-widgets/base",
       "_model_module_version": "2.0.0",
       "_model_name": "LayoutModel",
       "_view_count": null,
       "_view_module": "@jupyter-widgets/base",
       "_view_module_version": "2.0.0",
       "_view_name": "LayoutView",
       "align_content": null,
       "align_items": null,
       "align_self": null,
       "border_bottom": null,
       "border_left": null,
       "border_right": null,
       "border_top": null,
       "bottom": null,
       "display": null,
       "flex": null,
       "flex_flow": null,
       "grid_area": null,
       "grid_auto_columns": null,
       "grid_auto_flow": null,
       "grid_auto_rows": null,
       "grid_column": null,
       "grid_gap": null,
       "grid_row": null,
       "grid_template_areas": null,
       "grid_template_columns": null,
       "grid_template_rows": null,
       "height": null,
       "justify_content": null,
       "justify_items": null,
       "left": null,
       "margin": null,
       "max_height": null,
       "max_width": null,
       "min_height": null,
       "min_width": null,
       "object_fit": null,
       "object_position": null,
       "order": null,
       "overflow": null,
       "padding": null,
       "right": null,
       "top": null,
       "visibility": null,
       "width": null
      }
     },
     "9f31c8a9f39440c48daeebb066c96f53": {
      "model_module": "@jupyter-widgets/controls",
      "model_module_version": "2.0.0",
      "model_name": "HTMLModel",
      "state": {
       "_dom_classes": [],
       "_model_module": "@jupyter-widgets/controls",
       "_model_module_version": "2.0.0",
       "_model_name": "HTMLModel",
       "_view_count": null,
       "_view_module": "@jupyter-widgets/controls",
       "_view_module_version": "2.0.0",
       "_view_name": "HTMLView",
       "description": "",
       "description_allow_html": false,
       "layout": "IPY_MODEL_1d88be19d3104fe8ad398c9882ee8314",
       "placeholder": "​",
       "style": "IPY_MODEL_d9eefaab7a2c453c825d78ce3a03b558",
       "tabbable": null,
       "tooltip": null,
       "value": " 1/1 [00:00&lt;00:00,  2.97it/s]"
      }
     },
     "a69bb79b20bc4751abaee7cf33b7be09": {
      "model_module": "@jupyter-widgets/base",
      "model_module_version": "2.0.0",
      "model_name": "LayoutModel",
      "state": {
       "_model_module": "@jupyter-widgets/base",
       "_model_module_version": "2.0.0",
       "_model_name": "LayoutModel",
       "_view_count": null,
       "_view_module": "@jupyter-widgets/base",
       "_view_module_version": "2.0.0",
       "_view_name": "LayoutView",
       "align_content": null,
       "align_items": null,
       "align_self": null,
       "border_bottom": null,
       "border_left": null,
       "border_right": null,
       "border_top": null,
       "bottom": null,
       "display": null,
       "flex": null,
       "flex_flow": null,
       "grid_area": null,
       "grid_auto_columns": null,
       "grid_auto_flow": null,
       "grid_auto_rows": null,
       "grid_column": null,
       "grid_gap": null,
       "grid_row": null,
       "grid_template_areas": null,
       "grid_template_columns": null,
       "grid_template_rows": null,
       "height": null,
       "justify_content": null,
       "justify_items": null,
       "left": null,
       "margin": null,
       "max_height": null,
       "max_width": null,
       "min_height": null,
       "min_width": null,
       "object_fit": null,
       "object_position": null,
       "order": null,
       "overflow": null,
       "padding": null,
       "right": null,
       "top": null,
       "visibility": null,
       "width": null
      }
     },
     "a75dbf8048de4f3cbb706269fa1a82e3": {
      "model_module": "@jupyter-widgets/controls",
      "model_module_version": "2.0.0",
      "model_name": "ProgressStyleModel",
      "state": {
       "_model_module": "@jupyter-widgets/controls",
       "_model_module_version": "2.0.0",
       "_model_name": "ProgressStyleModel",
       "_view_count": null,
       "_view_module": "@jupyter-widgets/base",
       "_view_module_version": "2.0.0",
       "_view_name": "StyleView",
       "bar_color": null,
       "description_width": ""
      }
     },
     "acd37ff5575b40cd8a0cfee105ccaf23": {
      "model_module": "@jupyter-widgets/controls",
      "model_module_version": "2.0.0",
      "model_name": "HBoxModel",
      "state": {
       "_dom_classes": [],
       "_model_module": "@jupyter-widgets/controls",
       "_model_module_version": "2.0.0",
       "_model_name": "HBoxModel",
       "_view_count": null,
       "_view_module": "@jupyter-widgets/controls",
       "_view_module_version": "2.0.0",
       "_view_name": "HBoxView",
       "box_style": "",
       "children": [
        "IPY_MODEL_244edab9fb394611a3d150cdf4a43b70",
        "IPY_MODEL_35b55eb3ec054ea7b0ec477eae4e3ce8",
        "IPY_MODEL_2c5e8166f28040ef9a88a7e83210c117"
       ],
       "layout": "IPY_MODEL_2bf2a3620d0549cdbc9e803628f740c9",
       "tabbable": null,
       "tooltip": null
      }
     },
     "bfc1f20fe9164044b72e5fd285044e96": {
      "model_module": "@jupyter-widgets/base",
      "model_module_version": "2.0.0",
      "model_name": "LayoutModel",
      "state": {
       "_model_module": "@jupyter-widgets/base",
       "_model_module_version": "2.0.0",
       "_model_name": "LayoutModel",
       "_view_count": null,
       "_view_module": "@jupyter-widgets/base",
       "_view_module_version": "2.0.0",
       "_view_name": "LayoutView",
       "align_content": null,
       "align_items": null,
       "align_self": null,
       "border_bottom": null,
       "border_left": null,
       "border_right": null,
       "border_top": null,
       "bottom": null,
       "display": null,
       "flex": null,
       "flex_flow": null,
       "grid_area": null,
       "grid_auto_columns": null,
       "grid_auto_flow": null,
       "grid_auto_rows": null,
       "grid_column": null,
       "grid_gap": null,
       "grid_row": null,
       "grid_template_areas": null,
       "grid_template_columns": null,
       "grid_template_rows": null,
       "height": null,
       "justify_content": null,
       "justify_items": null,
       "left": null,
       "margin": null,
       "max_height": null,
       "max_width": null,
       "min_height": null,
       "min_width": null,
       "object_fit": null,
       "object_position": null,
       "order": null,
       "overflow": null,
       "padding": null,
       "right": null,
       "top": null,
       "visibility": null,
       "width": null
      }
     },
     "c3d54b110b524ca4a68605735ecf8f78": {
      "model_module": "@jupyter-widgets/controls",
      "model_module_version": "2.0.0",
      "model_name": "HTMLModel",
      "state": {
       "_dom_classes": [],
       "_model_module": "@jupyter-widgets/controls",
       "_model_module_version": "2.0.0",
       "_model_name": "HTMLModel",
       "_view_count": null,
       "_view_module": "@jupyter-widgets/controls",
       "_view_module_version": "2.0.0",
       "_view_name": "HTMLView",
       "description": "",
       "description_allow_html": false,
       "layout": "IPY_MODEL_577f3db7caa642418a3de8eecde47ed8",
       "placeholder": "​",
       "style": "IPY_MODEL_fdc5731c40604956bf24bde317fc3f18",
       "tabbable": null,
       "tooltip": null,
       "value": " 14/14 [00:02&lt;00:00,  5.45it/s, Completed]"
      }
     },
     "cdfba741fc0040cda79730a71a5cf38f": {
      "model_module": "@jupyter-widgets/controls",
      "model_module_version": "2.0.0",
      "model_name": "HTMLModel",
      "state": {
       "_dom_classes": [],
       "_model_module": "@jupyter-widgets/controls",
       "_model_module_version": "2.0.0",
       "_model_name": "HTMLModel",
       "_view_count": null,
       "_view_module": "@jupyter-widgets/controls",
       "_view_module_version": "2.0.0",
       "_view_name": "HTMLView",
       "description": "",
       "description_allow_html": false,
       "layout": "IPY_MODEL_93f17383517c4f88aad93f649769ca2f",
       "placeholder": "​",
       "style": "IPY_MODEL_ff2471b8385343c18b5ee85c6e2deed0",
       "tabbable": null,
       "tooltip": null,
       "value": " 1/1 [00:01&lt;00:00,  1.56s/it]"
      }
     },
     "d798d089daee46079cc342c979be0a26": {
      "model_module": "@jupyter-widgets/controls",
      "model_module_version": "2.0.0",
      "model_name": "HBoxModel",
      "state": {
       "_dom_classes": [],
       "_model_module": "@jupyter-widgets/controls",
       "_model_module_version": "2.0.0",
       "_model_name": "HBoxModel",
       "_view_count": null,
       "_view_module": "@jupyter-widgets/controls",
       "_view_module_version": "2.0.0",
       "_view_name": "HBoxView",
       "box_style": "",
       "children": [
        "IPY_MODEL_61c4d83c09074094ac1dbb52c90c3c7d",
        "IPY_MODEL_12b06c59b4e4433d8871d8604e8e1b9b",
        "IPY_MODEL_c3d54b110b524ca4a68605735ecf8f78"
       ],
       "layout": "IPY_MODEL_9bf2fb289c584baab26dd93a35aa87d0",
       "tabbable": null,
       "tooltip": null
      }
     },
     "d9eefaab7a2c453c825d78ce3a03b558": {
      "model_module": "@jupyter-widgets/controls",
      "model_module_version": "2.0.0",
      "model_name": "HTMLStyleModel",
      "state": {
       "_model_module": "@jupyter-widgets/controls",
       "_model_module_version": "2.0.0",
       "_model_name": "HTMLStyleModel",
       "_view_count": null,
       "_view_module": "@jupyter-widgets/base",
       "_view_module_version": "2.0.0",
       "_view_name": "StyleView",
       "background": null,
       "description_width": "",
       "font_size": null,
       "text_color": null
      }
     },
     "db6ca7d93a45493787a14a2bc00160df": {
      "model_module": "@jupyter-widgets/controls",
      "model_module_version": "2.0.0",
      "model_name": "HBoxModel",
      "state": {
       "_dom_classes": [],
       "_model_module": "@jupyter-widgets/controls",
       "_model_module_version": "2.0.0",
       "_model_name": "HBoxModel",
       "_view_count": null,
       "_view_module": "@jupyter-widgets/controls",
       "_view_module_version": "2.0.0",
       "_view_name": "HBoxView",
       "box_style": "",
       "children": [
        "IPY_MODEL_f8c3b9bb204c4f3c8d0a272333b8cfc8",
        "IPY_MODEL_e005d6101bba48c1ac4ed0b18d2a8f89",
        "IPY_MODEL_9f31c8a9f39440c48daeebb066c96f53"
       ],
       "layout": "IPY_MODEL_e48c44c4dab44a6c8a567edea5e4e9d7",
       "tabbable": null,
       "tooltip": null
      }
     },
     "de6487891df54d25b55e4c821d59277d": {
      "model_module": "@jupyter-widgets/base",
      "model_module_version": "2.0.0",
      "model_name": "LayoutModel",
      "state": {
       "_model_module": "@jupyter-widgets/base",
       "_model_module_version": "2.0.0",
       "_model_name": "LayoutModel",
       "_view_count": null,
       "_view_module": "@jupyter-widgets/base",
       "_view_module_version": "2.0.0",
       "_view_name": "LayoutView",
       "align_content": null,
       "align_items": null,
       "align_self": null,
       "border_bottom": null,
       "border_left": null,
       "border_right": null,
       "border_top": null,
       "bottom": null,
       "display": null,
       "flex": null,
       "flex_flow": null,
       "grid_area": null,
       "grid_auto_columns": null,
       "grid_auto_flow": null,
       "grid_auto_rows": null,
       "grid_column": null,
       "grid_gap": null,
       "grid_row": null,
       "grid_template_areas": null,
       "grid_template_columns": null,
       "grid_template_rows": null,
       "height": null,
       "justify_content": null,
       "justify_items": null,
       "left": null,
       "margin": null,
       "max_height": null,
       "max_width": null,
       "min_height": null,
       "min_width": null,
       "object_fit": null,
       "object_position": null,
       "order": null,
       "overflow": null,
       "padding": null,
       "right": null,
       "top": null,
       "visibility": null,
       "width": null
      }
     },
     "e005d6101bba48c1ac4ed0b18d2a8f89": {
      "model_module": "@jupyter-widgets/controls",
      "model_module_version": "2.0.0",
      "model_name": "FloatProgressModel",
      "state": {
       "_dom_classes": [],
       "_model_module": "@jupyter-widgets/controls",
       "_model_module_version": "2.0.0",
       "_model_name": "FloatProgressModel",
       "_view_count": null,
       "_view_module": "@jupyter-widgets/controls",
       "_view_module_version": "2.0.0",
       "_view_name": "ProgressView",
       "bar_style": "success",
       "description": "",
       "description_allow_html": false,
       "layout": "IPY_MODEL_a69bb79b20bc4751abaee7cf33b7be09",
       "max": 1.0,
       "min": 0.0,
       "orientation": "horizontal",
       "style": "IPY_MODEL_8d0bf52608a7440bb5d9629c25ef4a89",
       "tabbable": null,
       "tooltip": null,
       "value": 1.0
      }
     },
     "e2ab35ada3044238b75b3c65dc33ab15": {
      "model_module": "@jupyter-widgets/controls",
      "model_module_version": "2.0.0",
      "model_name": "HTMLModel",
      "state": {
       "_dom_classes": [],
       "_model_module": "@jupyter-widgets/controls",
       "_model_module_version": "2.0.0",
       "_model_name": "HTMLModel",
       "_view_count": null,
       "_view_module": "@jupyter-widgets/controls",
       "_view_module_version": "2.0.0",
       "_view_name": "HTMLView",
       "description": "",
       "description_allow_html": false,
       "layout": "IPY_MODEL_4f272fd3b0804534841a83a36235c16a",
       "placeholder": "​",
       "style": "IPY_MODEL_f7d63a72007440728b1b68a267b67312",
       "tabbable": null,
       "tooltip": null,
       "value": "Generate report structure: 100%"
      }
     },
     "e48c44c4dab44a6c8a567edea5e4e9d7": {
      "model_module": "@jupyter-widgets/base",
      "model_module_version": "2.0.0",
      "model_name": "LayoutModel",
      "state": {
       "_model_module": "@jupyter-widgets/base",
       "_model_module_version": "2.0.0",
       "_model_name": "LayoutModel",
       "_view_count": null,
       "_view_module": "@jupyter-widgets/base",
       "_view_module_version": "2.0.0",
       "_view_name": "LayoutView",
       "align_content": null,
       "align_items": null,
       "align_self": null,
       "border_bottom": null,
       "border_left": null,
       "border_right": null,
       "border_top": null,
       "bottom": null,
       "display": null,
       "flex": null,
       "flex_flow": null,
       "grid_area": null,
       "grid_auto_columns": null,
       "grid_auto_flow": null,
       "grid_auto_rows": null,
       "grid_column": null,
       "grid_gap": null,
       "grid_row": null,
       "grid_template_areas": null,
       "grid_template_columns": null,
       "grid_template_rows": null,
       "height": null,
       "justify_content": null,
       "justify_items": null,
       "left": null,
       "margin": null,
       "max_height": null,
       "max_width": null,
       "min_height": null,
       "min_width": null,
       "object_fit": null,
       "object_position": null,
       "order": null,
       "overflow": null,
       "padding": null,
       "right": null,
       "top": null,
       "visibility": null,
       "width": null
      }
     },
     "f7d63a72007440728b1b68a267b67312": {
      "model_module": "@jupyter-widgets/controls",
      "model_module_version": "2.0.0",
      "model_name": "HTMLStyleModel",
      "state": {
       "_model_module": "@jupyter-widgets/controls",
       "_model_module_version": "2.0.0",
       "_model_name": "HTMLStyleModel",
       "_view_count": null,
       "_view_module": "@jupyter-widgets/base",
       "_view_module_version": "2.0.0",
       "_view_name": "StyleView",
       "background": null,
       "description_width": "",
       "font_size": null,
       "text_color": null
      }
     },
     "f8c3b9bb204c4f3c8d0a272333b8cfc8": {
      "model_module": "@jupyter-widgets/controls",
      "model_module_version": "2.0.0",
      "model_name": "HTMLModel",
      "state": {
       "_dom_classes": [],
       "_model_module": "@jupyter-widgets/controls",
       "_model_module_version": "2.0.0",
       "_model_name": "HTMLModel",
       "_view_count": null,
       "_view_module": "@jupyter-widgets/controls",
       "_view_module_version": "2.0.0",
       "_view_name": "HTMLView",
       "description": "",
       "description_allow_html": false,
       "layout": "IPY_MODEL_49966494e9024f9cb133b2915c2fd715",
       "placeholder": "​",
       "style": "IPY_MODEL_40d3970c68a24049b77bfabb63b1460d",
       "tabbable": null,
       "tooltip": null,
       "value": "Render HTML: 100%"
      }
     },
     "fdc5731c40604956bf24bde317fc3f18": {
      "model_module": "@jupyter-widgets/controls",
      "model_module_version": "2.0.0",
      "model_name": "HTMLStyleModel",
      "state": {
       "_model_module": "@jupyter-widgets/controls",
       "_model_module_version": "2.0.0",
       "_model_name": "HTMLStyleModel",
       "_view_count": null,
       "_view_module": "@jupyter-widgets/base",
       "_view_module_version": "2.0.0",
       "_view_name": "StyleView",
       "background": null,
       "description_width": "",
       "font_size": null,
       "text_color": null
      }
     },
     "ff2471b8385343c18b5ee85c6e2deed0": {
      "model_module": "@jupyter-widgets/controls",
      "model_module_version": "2.0.0",
      "model_name": "HTMLStyleModel",
      "state": {
       "_model_module": "@jupyter-widgets/controls",
       "_model_module_version": "2.0.0",
       "_model_name": "HTMLStyleModel",
       "_view_count": null,
       "_view_module": "@jupyter-widgets/base",
       "_view_module_version": "2.0.0",
       "_view_name": "StyleView",
       "background": null,
       "description_width": "",
       "font_size": null,
       "text_color": null
      }
     }
    },
    "version_major": 2,
    "version_minor": 0
   }
  }
 },
 "nbformat": 4,
 "nbformat_minor": 5
}
